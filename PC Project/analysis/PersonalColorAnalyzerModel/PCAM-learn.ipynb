{
 "cells": [
  {
   "cell_type": "code",
   "execution_count": null,
   "id": "2d3a9b55",
   "metadata": {},
   "outputs": [],
   "source": [
    "# 퍼스널 컬러 학습 "
   ]
  },
  {
   "cell_type": "code",
   "execution_count": null,
   "id": "10231cce",
   "metadata": {},
   "outputs": [],
   "source": [
    "#데이터 증강\n",
    "from imblearn.over_sampling import SMOTE\n",
    "\n",
    "# SMOTE 적용 (소수 클래스 증강)\n",
    "smote = SMOTE(random_state=42)\n",
    "X_res, y_res = smote.fit_resample(X, y)\n",
    "\n",
    "# 증강 후 클래스 분포 확인\n",
    "print(pd.Series(y_res).value_counts())"
   ]
  },
  {
   "cell_type": "code",
   "execution_count": null,
   "id": "c8b3717b",
   "metadata": {},
   "outputs": [],
   "source": [
    "# 특징 선택\n",
    "from sklearn.feature_selection import SelectKBest, f_classif\n",
    "\n",
    "# 상위 10개 특징 선택\n",
    "selector = SelectKBest(score_func=f_classif, k=10)\n",
    "X_new = selector.fit_transform(X_res, y_res)\n"
   ]
  },
  {
   "cell_type": "code",
   "execution_count": null,
   "id": "c202dc9c",
   "metadata": {},
   "outputs": [],
   "source": [
    "# 하이퍼 파라미터 튜닝\n",
    "from sklearn.model_selection import GridSearchCV\n",
    "\n",
    "# 최적 파라미터 탐색\n",
    "param_grid = {\n",
    "    'n_estimators': [50, 100, 200],\n",
    "    'max_depth': [None, 5, 10],\n",
    "    'class_weight': ['balanced', None]\n",
    "}\n",
    "\n",
    "grid_search = GridSearchCV(RandomForestClassifier(), param_grid, cv=5)\n",
    "grid_search.fit(X_new, y_res)\n",
    "print(\"Best Params:\", grid_search.best_params_)"
   ]
  },
  {
   "cell_type": "code",
   "execution_count": null,
   "id": "d583b0c2",
   "metadata": {},
   "outputs": [],
   "source": [
    "# 교차 검증\n",
    "from sklearn.model_selection import StratifiedKFold\n",
    "from sklearn.metrics import f1_score\n",
    "\n",
    "# 계층별 5-fold 교차 검증\n",
    "cv = StratifiedKFold(n_splits=5)\n",
    "for train_idx, test_idx in cv.split(X_new, y_res):\n",
    "    X_train, X_test = X_new[train_idx], X_new[test_idx]\n",
    "    y_train, y_test = y_res[train_idx], y_res[test_idx]\n",
    "    \n",
    "    clf = RandomForestClassifier(**grid_search.best_params_)\n",
    "    clf.fit(X_train, y_train)\n",
    "    preds = clf.predict(X_test)\n",
    "    print(\"F1-Score:\", f1_score(y_test, preds, average='weighted'))\n"
   ]
  },
  {
   "cell_type": "code",
   "execution_count": null,
   "id": "c27bfb8b",
   "metadata": {},
   "outputs": [],
   "source": [
    "# 대체 모델 실험\n",
    "from xgboost import XGBClassifier\n",
    "from sklearn.svm import SVC\n",
    "\n",
    "# XGBoost 실험\n",
    "xgb = XGBClassifier()\n",
    "xgb.fit(X_new, y_res)\n",
    "\n",
    "# SVM 실험 (스케일링 필수)\n",
    "from sklearn.preprocessing import StandardScaler\n",
    "X_scaled = StandardScaler().fit_transform(X_new)\n",
    "svm = SVC(kernel='rbf', class_weight='balanced')\n",
    "svm.fit(X_scaled, y_res)\n"
   ]
  },
  {
   "cell_type": "code",
   "execution_count": null,
   "id": "2b8ce0df",
   "metadata": {},
   "outputs": [],
   "source": [
    "# 최종 파이프라인\n",
    "from sklearn.pipeline import Pipeline\n",
    "\n",
    "final_pipeline = Pipeline([\n",
    "    ('scaler', StandardScaler()),\n",
    "    ('selector', SelectKBest(f_classif, k=10)),\n",
    "    ('classifier', XGBClassifier(\n",
    "        n_estimators=100,\n",
    "        max_depth=3,\n",
    "        learning_rate=0.1\n",
    "    ))\n",
    "])\n",
    "\n",
    "# 최종 평가\n",
    "final_pipeline.fit(X_res, y_res)\n",
    "print(\"Final Accuracy:\", final_pipeline.score(X_test, y_test))\n"
   ]
  },
  {
   "cell_type": "code",
   "execution_count": null,
   "id": "f3d5471a",
   "metadata": {},
   "outputs": [],
   "source": []
  }
 ],
 "metadata": {
  "kernelspec": {
   "display_name": "LHJ2025",
   "language": "python",
   "name": "python3"
  },
  "language_info": {
   "codemirror_mode": {
    "name": "ipython",
    "version": 3
   },
   "file_extension": ".py",
   "mimetype": "text/x-python",
   "name": "python",
   "nbconvert_exporter": "python",
   "pygments_lexer": "ipython3",
   "version": "3.8.16"
  }
 },
 "nbformat": 4,
 "nbformat_minor": 5
}
